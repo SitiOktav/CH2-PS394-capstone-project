{
  "nbformat": 4,
  "nbformat_minor": 0,
  "metadata": {
    "colab": {
      "provenance": []
    },
    "kernelspec": {
      "name": "python3",
      "display_name": "Python 3"
    },
    "language_info": {
      "name": "python"
    }
  },
  "cells": [
    {
      "cell_type": "code",
      "execution_count": 1,
      "metadata": {
        "colab": {
          "base_uri": "https://localhost:8080/"
        },
        "id": "sxq4Wi1EM8nP",
        "outputId": "b7db36d6-9529-40b6-8c85-d539131b038d"
      },
      "outputs": [
        {
          "output_type": "stream",
          "name": "stdout",
          "text": [
            "  Provinsi    Kab/Kota         Kecamatan  Jumlah Penduduk (jiwa)  \\\n",
            "0     Aceh  Aceh Barat  Arongan Lambalek                   11928   \n",
            "1     Aceh  Aceh Barat             Bubon                    7339   \n",
            "2     Aceh  Aceh Barat    Johan Pahlawan                   63975   \n",
            "3     Aceh  Aceh Barat         Kaway XVI                   21644   \n",
            "4     Aceh  Aceh Barat          Meureubo                   30253   \n",
            "\n",
            "   Jumlah Crime  Crime per Capita  Criminal Rate  \n",
            "0           5.0          0.419182       1.676727  \n",
            "1           8.0          1.090067       4.360267  \n",
            "2          55.0          0.859711       3.438843  \n",
            "3          33.0          1.524672       6.098688  \n",
            "4          55.0          1.818002       7.272006  \n"
          ]
        }
      ],
      "source": [
        "import pandas as pd\n",
        "\n",
        "# Replace 'your_dataset_url.csv' with the actual URL to your CSV file\n",
        "file_url = 'https://drive.google.com/uc?id=1ED5QesU7C_8rs4_qjPS5nCBRHw-WWebr'\n",
        "\n",
        "# Read the CSV file from the URL into a DataFrame\n",
        "df = pd.read_csv(file_url)\n",
        "\n",
        "# Display the first few rows of the DataFrame to verify the data is loaded correctly\n",
        "print(df.head())\n"
      ]
    },
    {
      "cell_type": "code",
      "source": [
        "df.fillna(0, inplace=True)\n",
        "print(\"Null values in DataFrame:\")\n",
        "print(df.isnull().sum())"
      ],
      "metadata": {
        "colab": {
          "base_uri": "https://localhost:8080/"
        },
        "id": "xmI2UkU1pUpx",
        "outputId": "397fe621-6410-4860-a29f-87f4ce211b80"
      },
      "execution_count": 2,
      "outputs": [
        {
          "output_type": "stream",
          "name": "stdout",
          "text": [
            "Null values in DataFrame:\n",
            "Provinsi                  0\n",
            "Kab/Kota                  0\n",
            "Kecamatan                 0\n",
            "Jumlah Penduduk (jiwa)    0\n",
            "Jumlah Crime              0\n",
            "Crime per Capita          0\n",
            "Criminal Rate             0\n",
            "dtype: int64\n"
          ]
        }
      ]
    },
    {
      "cell_type": "code",
      "source": [
        "columns_to_convert = ['Jumlah Penduduk (jiwa)', 'Jumlah Crime', 'Crime per Capita']\n",
        "df[columns_to_convert] = df[columns_to_convert].apply(pd.to_numeric, errors='coerce')\n",
        "\n",
        "print(df[['Jumlah Penduduk (jiwa)', 'Jumlah Crime', 'Crime per Capita']].head())"
      ],
      "metadata": {
        "colab": {
          "base_uri": "https://localhost:8080/"
        },
        "id": "demVF06ZNQMC",
        "outputId": "e2af6837-d053-43fd-cf1f-357f19e351ee"
      },
      "execution_count": 3,
      "outputs": [
        {
          "output_type": "stream",
          "name": "stdout",
          "text": [
            "   Jumlah Penduduk (jiwa)  Jumlah Crime  Crime per Capita\n",
            "0                   11928           5.0          0.419182\n",
            "1                    7339           8.0          1.090067\n",
            "2                   63975          55.0          0.859711\n",
            "3                   21644          33.0          1.524672\n",
            "4                   30253          55.0          1.818002\n"
          ]
        }
      ]
    },
    {
      "cell_type": "code",
      "source": [
        "import pandas as pd\n",
        "import numpy as np\n",
        "import tensorflow as tf\n",
        "from sklearn.model_selection import train_test_split\n",
        "from sklearn.preprocessing import StandardScaler\n",
        "from sklearn.metrics import mean_squared_error\n",
        "import matplotlib.pyplot as plt\n",
        "\n",
        "# Assuming df is your DataFrame\n",
        "X = df[['Jumlah Penduduk (jiwa)', 'Jumlah Crime', 'Crime per Capita']]\n",
        "y = df['Criminal Rate']\n",
        "\n",
        "# Split the data into training and testing sets\n",
        "X_train, X_test, y_train, y_test = train_test_split(X, y, test_size=0.2, random_state=42)\n",
        "\n",
        "# Standardize the features (optional but often recommended for neural networks)\n",
        "scaler = StandardScaler()\n",
        "X_train_scaled = scaler.fit_transform(X_train)\n",
        "X_test_scaled = scaler.transform(X_test)\n",
        "\n",
        "# Build a simple neural network model for regression\n",
        "model = tf.keras.Sequential([\n",
        "    tf.keras.layers.Dense(64, activation='linear', input_shape=(X_train.shape[1],)),\n",
        "    tf.keras.layers.Dense(32, activation='relu'),\n",
        "    tf.keras.layers.Flatten(),\n",
        "    tf.keras.layers.Dense(1)\n",
        "])\n",
        "\n",
        "# Compile the model\n",
        "model.compile(optimizer='adam', loss='mean_squared_error', metrics=['mae'])\n",
        "\n",
        "# Train the model\n",
        "model.fit(X_train_scaled, y_train, epochs=50, verbose=1)\n",
        "\n",
        "model.summary()\n"
      ],
      "metadata": {
        "colab": {
          "base_uri": "https://localhost:8080/"
        },
        "id": "MPmhVwn6u-P8",
        "outputId": "fcd13646-484d-4ce1-80e1-1fc94941baa5"
      },
      "execution_count": 5,
      "outputs": [
        {
          "output_type": "stream",
          "name": "stdout",
          "text": [
            "Epoch 1/50\n",
            "26/26 [==============================] - 1s 1ms/step - loss: 83.9657 - mae: 4.1790\n",
            "Epoch 2/50\n",
            "26/26 [==============================] - 0s 1ms/step - loss: 64.5145 - mae: 3.6446\n",
            "Epoch 3/50\n",
            "26/26 [==============================] - 0s 1ms/step - loss: 43.7481 - mae: 3.0026\n",
            "Epoch 4/50\n",
            "26/26 [==============================] - 0s 1ms/step - loss: 21.1281 - mae: 2.1306\n",
            "Epoch 5/50\n",
            "26/26 [==============================] - 0s 1ms/step - loss: 5.5589 - mae: 1.1327\n",
            "Epoch 6/50\n",
            "26/26 [==============================] - 0s 1ms/step - loss: 2.2552 - mae: 0.6122\n",
            "Epoch 7/50\n",
            "26/26 [==============================] - 0s 1ms/step - loss: 1.4439 - mae: 0.5655\n",
            "Epoch 8/50\n",
            "26/26 [==============================] - 0s 1ms/step - loss: 0.9182 - mae: 0.5081\n",
            "Epoch 9/50\n",
            "26/26 [==============================] - 0s 1ms/step - loss: 0.6438 - mae: 0.3997\n",
            "Epoch 10/50\n",
            "26/26 [==============================] - 0s 1ms/step - loss: 0.4215 - mae: 0.3508\n",
            "Epoch 11/50\n",
            "26/26 [==============================] - 0s 1ms/step - loss: 0.3200 - mae: 0.3173\n",
            "Epoch 12/50\n",
            "26/26 [==============================] - 0s 1ms/step - loss: 0.2202 - mae: 0.2726\n",
            "Epoch 13/50\n",
            "26/26 [==============================] - 0s 1ms/step - loss: 0.1569 - mae: 0.2302\n",
            "Epoch 14/50\n",
            "26/26 [==============================] - 0s 1ms/step - loss: 0.1150 - mae: 0.1931\n",
            "Epoch 15/50\n",
            "26/26 [==============================] - 0s 1ms/step - loss: 0.0877 - mae: 0.1689\n",
            "Epoch 16/50\n",
            "26/26 [==============================] - 0s 1ms/step - loss: 0.0700 - mae: 0.1508\n",
            "Epoch 17/50\n",
            "26/26 [==============================] - 0s 1ms/step - loss: 0.0551 - mae: 0.1343\n",
            "Epoch 18/50\n",
            "26/26 [==============================] - 0s 1ms/step - loss: 0.0444 - mae: 0.1226\n",
            "Epoch 19/50\n",
            "26/26 [==============================] - 0s 1ms/step - loss: 0.0376 - mae: 0.1175\n",
            "Epoch 20/50\n",
            "26/26 [==============================] - 0s 1ms/step - loss: 0.0322 - mae: 0.1119\n",
            "Epoch 21/50\n",
            "26/26 [==============================] - 0s 1ms/step - loss: 0.0294 - mae: 0.1049\n",
            "Epoch 22/50\n",
            "26/26 [==============================] - 0s 1ms/step - loss: 0.0249 - mae: 0.1001\n",
            "Epoch 23/50\n",
            "26/26 [==============================] - 0s 1ms/step - loss: 0.0223 - mae: 0.0967\n",
            "Epoch 24/50\n",
            "26/26 [==============================] - 0s 1ms/step - loss: 0.0209 - mae: 0.0937\n",
            "Epoch 25/50\n",
            "26/26 [==============================] - 0s 1ms/step - loss: 0.0185 - mae: 0.0885\n",
            "Epoch 26/50\n",
            "26/26 [==============================] - 0s 1ms/step - loss: 0.0169 - mae: 0.0858\n",
            "Epoch 27/50\n",
            "26/26 [==============================] - 0s 1ms/step - loss: 0.0155 - mae: 0.0833\n",
            "Epoch 28/50\n",
            "26/26 [==============================] - 0s 1ms/step - loss: 0.0142 - mae: 0.0802\n",
            "Epoch 29/50\n",
            "26/26 [==============================] - 0s 1ms/step - loss: 0.0134 - mae: 0.0766\n",
            "Epoch 30/50\n",
            "26/26 [==============================] - 0s 1ms/step - loss: 0.0122 - mae: 0.0744\n",
            "Epoch 31/50\n",
            "26/26 [==============================] - 0s 1ms/step - loss: 0.0113 - mae: 0.0708\n",
            "Epoch 32/50\n",
            "26/26 [==============================] - 0s 1ms/step - loss: 0.0107 - mae: 0.0701\n",
            "Epoch 33/50\n",
            "26/26 [==============================] - 0s 1ms/step - loss: 0.0107 - mae: 0.0680\n",
            "Epoch 34/50\n",
            "26/26 [==============================] - 0s 1ms/step - loss: 0.0094 - mae: 0.0654\n",
            "Epoch 35/50\n",
            "26/26 [==============================] - 0s 1ms/step - loss: 0.0088 - mae: 0.0622\n",
            "Epoch 36/50\n",
            "26/26 [==============================] - 0s 1ms/step - loss: 0.0083 - mae: 0.0616\n",
            "Epoch 37/50\n",
            "26/26 [==============================] - 0s 1ms/step - loss: 0.0082 - mae: 0.0624\n",
            "Epoch 38/50\n",
            "26/26 [==============================] - 0s 1ms/step - loss: 0.0078 - mae: 0.0590\n",
            "Epoch 39/50\n",
            "26/26 [==============================] - 0s 1ms/step - loss: 0.0073 - mae: 0.0574\n",
            "Epoch 40/50\n",
            "26/26 [==============================] - 0s 1ms/step - loss: 0.0070 - mae: 0.0557\n",
            "Epoch 41/50\n",
            "26/26 [==============================] - 0s 1ms/step - loss: 0.0069 - mae: 0.0552\n",
            "Epoch 42/50\n",
            "26/26 [==============================] - 0s 1ms/step - loss: 0.0066 - mae: 0.0534\n",
            "Epoch 43/50\n",
            "26/26 [==============================] - 0s 1ms/step - loss: 0.0065 - mae: 0.0542\n",
            "Epoch 44/50\n",
            "26/26 [==============================] - 0s 1ms/step - loss: 0.0062 - mae: 0.0527\n",
            "Epoch 45/50\n",
            "26/26 [==============================] - 0s 1ms/step - loss: 0.0059 - mae: 0.0517\n",
            "Epoch 46/50\n",
            "26/26 [==============================] - 0s 1ms/step - loss: 0.0060 - mae: 0.0501\n",
            "Epoch 47/50\n",
            "26/26 [==============================] - 0s 1ms/step - loss: 0.0057 - mae: 0.0496\n",
            "Epoch 48/50\n",
            "26/26 [==============================] - 0s 1ms/step - loss: 0.0054 - mae: 0.0486\n",
            "Epoch 49/50\n",
            "26/26 [==============================] - 0s 1ms/step - loss: 0.0054 - mae: 0.0486\n",
            "Epoch 50/50\n",
            "26/26 [==============================] - 0s 1ms/step - loss: 0.0052 - mae: 0.0469\n",
            "Model: \"sequential\"\n",
            "_________________________________________________________________\n",
            " Layer (type)                Output Shape              Param #   \n",
            "=================================================================\n",
            " dense (Dense)               (None, 64)                256       \n",
            "                                                                 \n",
            " dense_1 (Dense)             (None, 32)                2080      \n",
            "                                                                 \n",
            " flatten (Flatten)           (None, 32)                0         \n",
            "                                                                 \n",
            " dense_2 (Dense)             (None, 1)                 33        \n",
            "                                                                 \n",
            "=================================================================\n",
            "Total params: 2369 (9.25 KB)\n",
            "Trainable params: 2369 (9.25 KB)\n",
            "Non-trainable params: 0 (0.00 Byte)\n",
            "_________________________________________________________________\n"
          ]
        }
      ]
    },
    {
      "cell_type": "code",
      "source": [
        "# Make predictions on the test set\n",
        "predictions = model.predict(X_test_scaled).flatten()\n",
        "\n",
        "# Create a DataFrame to compare actual vs predicted data\n",
        "comparison_df = pd.DataFrame({\n",
        "    'Actual Criminal Rate': y_test,\n",
        "    'Predicted Criminal Rate': predictions\n",
        "})\n",
        "\n",
        "# Print the DataFrame\n",
        "print(comparison_df)\n",
        "\n",
        "# Optionally, visualize the comparison with a scatter plot\n",
        "plt.scatter(y_test, predictions)\n",
        "plt.xlabel('Actual Criminal Rate')\n",
        "plt.ylabel('Predicted Criminal Rate')\n",
        "plt.title('Actual vs Predicted Criminal Rate')\n",
        "plt.show()\n"
      ],
      "metadata": {
        "colab": {
          "base_uri": "https://localhost:8080/",
          "height": 744
        },
        "id": "bbP-qa2uybg4",
        "outputId": "04a3e5d1-c223-4533-b6e1-e2c40973eef2"
      },
      "execution_count": 6,
      "outputs": [
        {
          "output_type": "stream",
          "name": "stdout",
          "text": [
            "7/7 [==============================] - 0s 1ms/step\n",
            "     Actual Criminal Rate  Predicted Criminal Rate\n",
            "428              0.957702                 0.930536\n",
            "533              0.505753                 0.495555\n",
            "388              2.150954                 2.002106\n",
            "107              1.979125                 1.955742\n",
            "423              2.384643                 2.366286\n",
            "..                    ...                      ...\n",
            "593              0.281047                 0.257062\n",
            "522              0.907904                 0.863845\n",
            "371              4.415620                 4.394124\n",
            "803              3.103809                 3.123802\n",
            "277              6.120020                 6.135989\n",
            "\n",
            "[206 rows x 2 columns]\n"
          ]
        },
        {
          "output_type": "display_data",
          "data": {
            "text/plain": [
              "<Figure size 640x480 with 1 Axes>"
            ],
            "image/png": "[encoded data removed]"
          },
          "metadata": {}
        }
      ]
    },
    {
      "cell_type": "code",
      "source": [
        "import joblib\n",
        "joblib.dump(scaler, 'standard_scaler.pkl')"
      ],
      "metadata": {
        "colab": {
          "base_uri": "https://localhost:8080/"
        },
        "id": "hsFSKSJlzdNU",
        "outputId": "9dff1b0a-1bb4-43fa-dd74-0176dea3cd89"
      },
      "execution_count": 7,
      "outputs": [
        {
          "output_type": "execute_result",
          "data": {
            "text/plain": [
              "['standard_scaler.pkl']"
            ]
          },
          "metadata": {},
          "execution_count": 7
        }
      ]
    },
    {
      "cell_type": "code",
      "source": [
        "#model.save('predict_crime_model.h5')\n",
        "#if __name__ == '__main__':\n",
        " #   model.save('predict_crime_model.h5')\n",
        "model.save('./saved_model_crime')\n"
      ],
      "metadata": {
        "id": "5ZhsbEH5oQ0B"
      },
      "execution_count": 8,
      "outputs": []
    },
    {
      "cell_type": "code",
      "source": [
        "!zip -r /content/saved_model_pb.zip /content/saved_model_pb/\n"
      ],
      "metadata": {
        "colab": {
          "base_uri": "https://localhost:8080/"
        },
        "id": "zKXJs2o8JuhC",
        "outputId": "976df4c3-2f3f-4eda-881b-de8039c7fe19"
      },
      "execution_count": null,
      "outputs": [
        {
          "output_type": "stream",
          "name": "stdout",
          "text": [
            "  adding: content/saved_model_pb/ (stored 0%)\n",
            "  adding: content/saved_model_pb/keras_metadata.pb (deflated 87%)\n",
            "  adding: content/saved_model_pb/fingerprint.pb (stored 0%)\n",
            "  adding: content/saved_model_pb/variables/ (stored 0%)\n",
            "  adding: content/saved_model_pb/variables/variables.index (deflated 60%)\n",
            "  adding: content/saved_model_pb/variables/variables.data-00000-of-00001 (deflated 16%)\n",
            "  adding: content/saved_model_pb/assets/ (stored 0%)\n",
            "  adding: content/saved_model_pb/saved_model.pb (deflated 87%)\n"
          ]
        }
      ]
    },
    {
      "cell_type": "code",
      "source": [
        "loaded_model = tf.saved_model.load('./saved_model_pb')\n",
        "print(loaded_model.signatures)\n"
      ],
      "metadata": {
        "colab": {
          "base_uri": "https://localhost:8080/"
        },
        "id": "lu8FWYDJPzuL",
        "outputId": "6219762e-e121-4e3e-e422-88180cbe8e2b"
      },
      "execution_count": null,
      "outputs": [
        {
          "output_type": "stream",
          "name": "stdout",
          "text": [
            "_SignatureMap({'serving_default': <ConcreteFunction (*, dense_input: TensorSpec(shape=(None, 3), dtype=tf.float32, name='dense_input')) -> Dict[['dense_2', TensorSpec(shape=(None, 1), dtype=tf.float32, name='dense_2')]] at 0x7F5A98ACD9C0>})\n"
          ]
        }
      ]
    },
    {
      "cell_type": "code",
      "source": [
        "model.summary()"
      ],
      "metadata": {
        "id": "ddw_gPCjh1E-",
        "colab": {
          "base_uri": "https://localhost:8080/"
        },
        "outputId": "02e2b53b-7362-475b-d3be-36ddc334910f"
      },
      "execution_count": 10,
      "outputs": [
        {
          "output_type": "stream",
          "name": "stdout",
          "text": [
            "Model: \"sequential\"\n",
            "_________________________________________________________________\n",
            " Layer (type)                Output Shape              Param #   \n",
            "=================================================================\n",
            " dense (Dense)               (None, 64)                256       \n",
            "                                                                 \n",
            " dense_1 (Dense)             (None, 32)                2080      \n",
            "                                                                 \n",
            " flatten (Flatten)           (None, 32)                0         \n",
            "                                                                 \n",
            " dense_2 (Dense)             (None, 1)                 33        \n",
            "                                                                 \n",
            "=================================================================\n",
            "Total params: 2369 (9.25 KB)\n",
            "Trainable params: 2369 (9.25 KB)\n",
            "Non-trainable params: 0 (0.00 Byte)\n",
            "_________________________________________________________________\n"
          ]
        }
      ]
    },
    {
      "cell_type": "code",
      "source": [
        "import tensorflow as tf\n",
        "\n",
        "# Convert the model\n",
        "converter = tf.lite.TFLiteConverter.from_saved_model('/content/saved_model_crime') # path to the SavedModel directory\n",
        "tflite_model = converter.convert()\n",
        "\n",
        "# Save the model.\n",
        "with open('model.tflite', 'wb') as f:\n",
        "  f.write(tflite_model)"
      ],
      "metadata": {
        "id": "wbT3BagV9r7X"
      },
      "execution_count": 11,
      "outputs": []
    }
  ]
}